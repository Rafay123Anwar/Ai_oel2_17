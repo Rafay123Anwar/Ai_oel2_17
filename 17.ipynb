{
 "cells": [
  {
   "cell_type": "markdown",
   "id": "0f3c38fb-9a3f-40f0-b50e-eec95640d61a",
   "metadata": {},
   "source": [
    "## Open Ended Lab 2"
   ]
  },
  {
   "cell_type": "code",
   "execution_count": 30,
   "id": "e9d26ec2-abed-46e3-97b3-7deba4cb4f34",
   "metadata": {},
   "outputs": [],
   "source": [
    "graph = {\n",
    "    'A': [('B', 6), ('C', 2)],\n",
    "    'B': [('D', 5), ('E', 3)],\n",
    "    'C': [('F', 4)],\n",
    "    'D': [('G', 2)],\n",
    "    'E': [('G', 6)],\n",
    "    'F': [('G', 1)],\n",
    "    'G': []\n",
    "}"
   ]
  },
  {
   "cell_type": "markdown",
   "id": "fe871b5c-f72b-486e-83d6-778e11190181",
   "metadata": {},
   "source": [
    "## 1. Implement Depth First Search to find any path from A to G."
   ]
  },
  {
   "cell_type": "code",
   "execution_count": 31,
   "id": "ca11b517-6056-49eb-88c7-3417bb89cd66",
   "metadata": {},
   "outputs": [
    {
     "name": "stdout",
     "output_type": "stream",
     "text": [
      "DFS Path: ['A', 'B', 'D', 'G']\n"
     ]
    }
   ],
   "source": [
    "def dfs(graph, start, goal, path=None, visited=None):\n",
    "    if visited is None:\n",
    "        visited = set()\n",
    "    if path is None:\n",
    "        path = []\n",
    "\n",
    "    visited.add(start)\n",
    "    path = path + [start]\n",
    "\n",
    "    if start == goal:\n",
    "        return path\n",
    "\n",
    "    for neighbor, _ in graph[start]:\n",
    "        if neighbor not in visited:\n",
    "            new_path = dfs(graph, neighbor, goal, path, visited)\n",
    "            if new_path:\n",
    "                return new_path\n",
    "    return None\n",
    "\n",
    "dfs_path = dfs(graph, 'A', 'G')\n",
    "print(\"DFS Path:\", dfs_path)"
   ]
  },
  {
   "cell_type": "markdown",
   "id": "e03ecefb-365c-4b7b-b5f5-9cfb6b0edc76",
   "metadata": {},
   "source": [
    "## 2. Implement A* Search, assuming the following heuristic values:"
   ]
  },
  {
   "cell_type": "code",
   "execution_count": 8,
   "id": "e7fe15fc-2771-4f6f-912a-e2e87621bbee",
   "metadata": {},
   "outputs": [],
   "source": [
    "heuristic = {\n",
    "    'A': 7, 'B': 6, 'C': 4, 'D': 3,\n",
    "    'E': 5, 'F': 2, 'G': 0\n",
    "}"
   ]
  },
  {
   "cell_type": "code",
   "execution_count": 32,
   "id": "4cbea686-3c7c-42c2-924e-6ae62fae6282",
   "metadata": {},
   "outputs": [
    {
     "name": "stdout",
     "output_type": "stream",
     "text": [
      "A* Path: ['A', 'C', 'F', 'G']\n"
     ]
    }
   ],
   "source": [
    "from heapq import heappush, heappop\n",
    "\n",
    "def a_star(graph, start, goal, h):\n",
    "    open_set = []\n",
    "    heappush(open_set, (h[start], 0, start, [start]))\n",
    "\n",
    "    visited = {}\n",
    "\n",
    "    while open_set:\n",
    "        f, g, current, path = heappop(open_set)\n",
    "\n",
    "        if current in visited and visited[current] <= g:\n",
    "            continue\n",
    "\n",
    "        visited[current] = g\n",
    "\n",
    "        if current == goal:\n",
    "            return path, g\n",
    "\n",
    "        for neighbor, cost in graph[current]:\n",
    "            new_g = g + cost\n",
    "            new_f = new_g + h[neighbor]\n",
    "            heappush(open_set, (new_f, new_g, neighbor, path + [neighbor]))\n",
    "\n",
    "    return None, float('inf')\n",
    "\n",
    "a_star_path, a_star_distance = a_star(graph, 'A', 'G', heuristic)\n",
    "print(\"A* Path:\", a_star_path)"
   ]
  },
  {
   "cell_type": "markdown",
   "id": "449c1a4e-73b2-4b05-be22-11987a37ce8a",
   "metadata": {},
   "source": [
    "## 3. Show the path and total distance covered for both algorithms"
   ]
  },
  {
   "cell_type": "code",
   "execution_count": 33,
   "id": "5e9718c9-a2a7-4581-a42a-691d3e0d5f68",
   "metadata": {},
   "outputs": [
    {
     "name": "stdout",
     "output_type": "stream",
     "text": [
      "DFS Total Distance: 13\n",
      "A* Total Distance: 7\n"
     ]
    }
   ],
   "source": [
    "def calculate_distance(path, graph):\n",
    "    distance = 0\n",
    "    for i in range(len(path) - 1):\n",
    "        for neighbor, weight in graph[path[i]]:\n",
    "            if neighbor == path[i + 1]:\n",
    "                distance += weight\n",
    "                break\n",
    "    return distance\n",
    "    \n",
    "dfs_distance = calculate_distance(dfs_path, graph)\n",
    "print(\"DFS Total Distance:\", dfs_distance)\n",
    "\n",
    "a_star_path, a_star_distance = a_star(graph, 'A', 'G', heuristic)\n",
    "print(\"A* Total Distance:\", a_star_distance)"
   ]
  },
  {
   "cell_type": "code",
   "execution_count": null,
   "id": "ad2539a2-7d84-4643-b176-c3dd07fa8417",
   "metadata": {},
   "outputs": [],
   "source": []
  }
 ],
 "metadata": {
  "kernelspec": {
   "display_name": "Python 3 (ipykernel)",
   "language": "python",
   "name": "python3"
  },
  "language_info": {
   "codemirror_mode": {
    "name": "ipython",
    "version": 3
   },
   "file_extension": ".py",
   "mimetype": "text/x-python",
   "name": "python",
   "nbconvert_exporter": "python",
   "pygments_lexer": "ipython3",
   "version": "3.13.3"
  }
 },
 "nbformat": 4,
 "nbformat_minor": 5
}
